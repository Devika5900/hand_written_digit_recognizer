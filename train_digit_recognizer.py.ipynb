{
 "cells": [
  {
   "cell_type": "code",
   "execution_count": 1,
   "id": "9b66f1c6",
   "metadata": {},
   "outputs": [],
   "source": [
    "import keras\n",
    "from keras.datasets import mnist\n",
    "from keras.models import Sequential\n",
    "from keras.layers import Dense, Dropout, Flatten\n",
    "from keras.layers import Conv2D, MaxPooling2D\n",
    "from keras import backend as K"
   ]
  },
  {
   "cell_type": "code",
   "execution_count": 2,
   "id": "bcfd6d5f",
   "metadata": {},
   "outputs": [],
   "source": [
    "# Splitting dataset into training and testing set\n",
    "(x_train, y_train), (x_test, y_test) = mnist.load_data()"
   ]
  },
  {
   "cell_type": "code",
   "execution_count": 3,
   "id": "ee7fee8a",
   "metadata": {},
   "outputs": [
    {
     "name": "stdout",
     "output_type": "stream",
     "text": [
      "(60000, 28, 28) (60000,)\n"
     ]
    }
   ],
   "source": [
    "# Printing the size of training dataset\n",
    "print(x_train.shape, y_train.shape)"
   ]
  },
  {
   "cell_type": "code",
   "execution_count": 4,
   "id": "e84db84f",
   "metadata": {},
   "outputs": [],
   "source": [
    "# Reshapping the data for fitting into the model\n",
    "x_train = x_train.reshape(x_train.shape[0], 28, 28, 1)\n",
    "x_test = x_test.reshape(x_test.shape[0], 28, 28, 1)\n",
    "input_shape = (28, 28, 1)"
   ]
  },
  {
   "cell_type": "code",
   "execution_count": 5,
   "id": "3c0a7da0",
   "metadata": {},
   "outputs": [],
   "source": [
    "y_train = keras.utils.to_categorical(y_train, 10)\n",
    "y_test = keras.utils.to_categorical(y_test, 10)"
   ]
  },
  {
   "cell_type": "code",
   "execution_count": 6,
   "id": "89d4a95c",
   "metadata": {},
   "outputs": [
    {
     "name": "stdout",
     "output_type": "stream",
     "text": [
      "x_train shape: (60000, 28, 28, 1)\n",
      "60000 train samples\n",
      "10000 test samples\n"
     ]
    }
   ],
   "source": [
    "# Normalizing the training and testing set.\n",
    "x_train = x_train.astype('float32')\n",
    "x_test = x_test.astype('float32')\n",
    "x_train /= 255\n",
    "x_test /= 255\n",
    "print('x_train shape:', x_train.shape)\n",
    "print(x_train.shape[0], 'train samples')\n",
    "print(x_test.shape[0], 'test samples')"
   ]
  },
  {
   "cell_type": "code",
   "execution_count": 7,
   "id": "9518df46",
   "metadata": {},
   "outputs": [],
   "source": [
    "batch_size = 128\n",
    "num_classes = 10\n",
    "epochs = 10"
   ]
  },
  {
   "cell_type": "code",
   "execution_count": 8,
   "id": "cea5a59d",
   "metadata": {},
   "outputs": [],
   "source": [
    "# Creating the model\n",
    "model = Sequential()\n",
    "model.add(Conv2D(32, kernel_size=(5, 5),activation='relu',input_shape=input_shape))\n",
    "model.add(MaxPooling2D(pool_size=(2, 2)))\n",
    "model.add(Conv2D(64, (3, 3), activation='relu'))\n",
    "model.add(MaxPooling2D(pool_size=(2, 2)))\n",
    "model.add(Flatten())\n",
    "model.add(Dense(128, activation='relu'))\n",
    "model.add(Dropout(0.3))\n",
    "model.add(Dense(64, activation='relu'))\n",
    "model.add(Dropout(0.5))\n",
    "model.add(Dense(num_classes, activation='softmax'))"
   ]
  },
  {
   "cell_type": "code",
   "execution_count": 9,
   "id": "9eedf19e",
   "metadata": {},
   "outputs": [],
   "source": [
    "# Compiing the  model by using appropriate optimizier .\n",
    "model.compile(loss=keras.losses.categorical_crossentropy,optimizer=keras.optimizers.Adam(),metrics=['accuracy'])"
   ]
  },
  {
   "cell_type": "code",
   "execution_count": 10,
   "id": "37b3383e",
   "metadata": {
    "scrolled": true
   },
   "outputs": [
    {
     "name": "stdout",
     "output_type": "stream",
     "text": [
      "Epoch 1/10\n",
      "469/469 [==============================] - 62s 123ms/step - loss: 0.3940 - accuracy: 0.8772 - val_loss: 0.0640 - val_accuracy: 0.9813\n",
      "Epoch 2/10\n",
      "469/469 [==============================] - 56s 119ms/step - loss: 0.1163 - accuracy: 0.9696 - val_loss: 0.0429 - val_accuracy: 0.9872\n",
      "Epoch 3/10\n",
      "469/469 [==============================] - 56s 120ms/step - loss: 0.0805 - accuracy: 0.9791 - val_loss: 0.0366 - val_accuracy: 0.9891\n",
      "Epoch 4/10\n",
      "469/469 [==============================] - 55s 118ms/step - loss: 0.0677 - accuracy: 0.9827 - val_loss: 0.0358 - val_accuracy: 0.9896\n",
      "Epoch 5/10\n",
      "469/469 [==============================] - 56s 120ms/step - loss: 0.0584 - accuracy: 0.9846 - val_loss: 0.0375 - val_accuracy: 0.9885\n",
      "Epoch 6/10\n",
      "469/469 [==============================] - 53s 113ms/step - loss: 0.0495 - accuracy: 0.9873 - val_loss: 0.0299 - val_accuracy: 0.9909\n",
      "Epoch 7/10\n",
      "469/469 [==============================] - 52s 112ms/step - loss: 0.0415 - accuracy: 0.9887 - val_loss: 0.0297 - val_accuracy: 0.9911\n",
      "Epoch 8/10\n",
      "469/469 [==============================] - 52s 110ms/step - loss: 0.0369 - accuracy: 0.9905 - val_loss: 0.0260 - val_accuracy: 0.9929\n",
      "Epoch 9/10\n",
      "469/469 [==============================] - 52s 111ms/step - loss: 0.0320 - accuracy: 0.9914 - val_loss: 0.0368 - val_accuracy: 0.9900\n",
      "Epoch 10/10\n",
      "469/469 [==============================] - 55s 118ms/step - loss: 0.0344 - accuracy: 0.9911 - val_loss: 0.0248 - val_accuracy: 0.9929\n",
      "The model has successfully trained\n"
     ]
    }
   ],
   "source": [
    "\n",
    "hist = model.fit(x_train, y_train,batch_size=batch_size,epochs=epochs,verbose=1,validation_data=(x_test, y_test))\n",
    "print(\"The model has successfully trained\")"
   ]
  },
  {
   "cell_type": "code",
   "execution_count": 11,
   "id": "f66b8341",
   "metadata": {},
   "outputs": [
    {
     "name": "stdout",
     "output_type": "stream",
     "text": [
      "Test loss: 0.024770012125372887\n",
      "Test accuracy: 0.992900013923645\n"
     ]
    }
   ],
   "source": [
    "# Printing the model loss and accuracy.\n",
    "score = model.evaluate(x_test, y_test, verbose=0)\n",
    "print('Test loss:', score[0])\n",
    "print('Test accuracy:', score[1])"
   ]
  },
  {
   "cell_type": "code",
   "execution_count": 12,
   "id": "172968f7",
   "metadata": {},
   "outputs": [
    {
     "name": "stderr",
     "output_type": "stream",
     "text": [
      "WARNING:absl:Found untraced functions such as _jit_compiled_convolution_op, _jit_compiled_convolution_op while saving (showing 2 of 2). These functions will not be directly callable after loading.\n"
     ]
    },
    {
     "name": "stdout",
     "output_type": "stream",
     "text": [
      "INFO:tensorflow:Assets written to: mnist.h\\assets\n"
     ]
    },
    {
     "name": "stderr",
     "output_type": "stream",
     "text": [
      "INFO:tensorflow:Assets written to: mnist.h\\assets\n"
     ]
    },
    {
     "name": "stdout",
     "output_type": "stream",
     "text": [
      "Saving the model as mnist.h\n"
     ]
    }
   ],
   "source": [
    "# Saving the model for future use.\n",
    "model.save('mnist.h')\n",
    "print(\"Saving the model as mnist.h\")"
   ]
  },
  {
   "cell_type": "code",
   "execution_count": 19,
   "id": "04cb7294",
   "metadata": {},
   "outputs": [
    {
     "name": "stdout",
     "output_type": "stream",
     "text": [
      "313/313 [==============================] - 4s 13ms/step\n",
      "[[4.56061636e-19 1.23741984e-14 1.84127710e-13 ... 1.00000000e+00\n",
      "  7.20920629e-19 4.84209027e-12]\n",
      " [4.50456903e-12 3.65486041e-09 1.00000000e+00 ... 2.47537491e-10\n",
      "  2.49874677e-10 3.22426439e-13]\n",
      " [2.20073783e-13 1.00000000e+00 9.38165587e-11 ... 1.21084014e-08\n",
      "  1.85758946e-08 2.79409140e-09]\n",
      " ...\n",
      " [3.59535418e-18 2.09471831e-13 1.51574185e-15 ... 9.66137096e-14\n",
      "  5.24867259e-13 1.57920232e-09]\n",
      " [7.01575410e-15 1.40249995e-16 2.43637752e-19 ... 1.87892091e-18\n",
      "  7.87538368e-11 3.51150250e-12]\n",
      " [3.36406819e-13 6.78081831e-13 1.14556964e-12 ... 2.17801556e-18\n",
      "  1.04948189e-10 2.17903495e-13]]\n"
     ]
    }
   ],
   "source": [
    "predicions=model.predict([x_test])\n",
    "print(predicions)"
   ]
  },
  {
   "cell_type": "code",
   "execution_count": 24,
   "id": "ec8cd368",
   "metadata": {},
   "outputs": [
    {
     "name": "stdout",
     "output_type": "stream",
     "text": [
      "2\n"
     ]
    }
   ],
   "source": [
    "#predicting the values taken from the training set using the model\n",
    "import numpy as np\n",
    "print(np.argmax(predicions[1]))"
   ]
  },
  {
   "cell_type": "code",
   "execution_count": 25,
   "id": "2176e8bd",
   "metadata": {},
   "outputs": [
    {
     "data": {
      "text/plain": [
       "<matplotlib.image.AxesImage at 0x1afb8384520>"
      ]
     },
     "execution_count": 25,
     "metadata": {},
     "output_type": "execute_result"
    },
    {
     "data": {
      "image/png": "[encoded data removed]",
      "text/plain": [
       "<Figure size 432x288 with 1 Axes>"
      ]
     },
     "metadata": {
      "needs_background": "light"
     },
     "output_type": "display_data"
    }
   ],
   "source": [
    "#image of the predicted value taken from the training set using the model\n",
    "import matplotlib.pyplot as plt\n",
    "plt.imshow(x_test[1])"
   ]
  },
  {
   "cell_type": "code",
   "execution_count": null,
   "id": "071a4c2d",
   "metadata": {},
   "outputs": [],
   "source": []
  }
 ],
 "metadata": {
  "kernelspec": {
   "display_name": "Python 3 (ipykernel)",
   "language": "python",
   "name": "python3"
  },
  "language_info": {
   "codemirror_mode": {
    "name": "ipython",
    "version": 3
   },
   "file_extension": ".py",
   "mimetype": "text/x-python",
   "name": "python",
   "nbconvert_exporter": "python",
   "pygments_lexer": "ipython3",
   "version": "3.9.12"
  }
 },
 "nbformat": 4,
 "nbformat_minor": 5
}
